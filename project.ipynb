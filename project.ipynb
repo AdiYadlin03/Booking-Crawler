{
 "cells": [
  {
   "cell_type": "code",
   "execution_count": null,
   "metadata": {
    "collapsed": false,
    "pycharm": {
     "is_executing": true,
     "name": "#%%\n"
    }
   },
   "outputs": [],
   "source": [
    "\"\"\"\n",
    "https://www.scrapingbee.com/blog/web-scraping-booking/\n",
    "https://selenium-python.readthedocs.io/locating-elements.html\n",
    "https://stackoverflow.com/questions/72165030/selenium-script-searches-previous-tabs-html-after-opening-a-new-tab\n",
    "\n",
    "\"\"\""
   ]
  },
  {
   "cell_type": "code",
   "execution_count": null,
   "metadata": {
    "collapsed": false,
    "pycharm": {
     "is_executing": true,
     "name": "#%%\n"
    }
   },
   "outputs": [],
   "source": [
    "pip install selenium selenium-wire webdriver-manager pandas"
   ]
  },
  {
   "cell_type": "code",
   "execution_count": 1,
   "metadata": {
    "collapsed": false,
    "pycharm": {
     "is_executing": true,
     "name": "#%%\n"
    }
   },
   "outputs": [],
   "source": [
    "import pandas as pd\n",
    "import numpy as np\n",
    "import selenium\n",
    "import time\n",
    "from selenium.webdriver.common.by import By\n",
    "from seleniumwire import webdriver\n",
    "from selenium.webdriver.chrome.service import Service\n",
    "from webdriver_manager.chrome import ChromeDriverManager\n",
    "from selenium.webdriver.support.ui import WebDriverWait\n",
    "from selenium.webdriver.support import expected_conditions as EC"
   ]
  },
  {
   "attachments": {},
   "cell_type": "markdown",
   "id": "b6b916df",
   "metadata": {},
   "source": [
    "To use selenium with google chrome we need to create a driver with the wanted url. This function will create and return a driver object."
   ]
  },
  {
   "cell_type": "code",
   "execution_count": 2,
   "id": "5c8338cd",
   "metadata": {
    "collapsed": false,
    "pycharm": {
     "name": "#%%\n"
    }
   },
   "outputs": [],
   "source": [
    "def create_driver(url):\n",
    "    driver = webdriver.Chrome()\n",
    "    driver.get(url)\n",
    "    #print(driver.title)\n",
    "    return driver"
   ]
  },
  {
   "attachments": {},
   "cell_type": "markdown",
   "id": "fdfedb2b",
   "metadata": {},
   "source": [
    "The following function takes the driver and goes through the result pages to extract the hotel names and links to their pages.\n",
    "It returns a dataframe of the results."
   ]
  },
  {
   "cell_type": "code",
   "execution_count": 6,
   "metadata": {
    "collapsed": false,
    "pycharm": {
     "name": "#%%\n"
    }
   },
   "outputs": [],
   "source": [
    "def get_hotel_links(city_driver):\n",
    "    names = []\n",
    "    links_for_hotel_pages = []\n",
    "    distance_from_center = []\n",
    "    \n",
    "    number_of_pages = int(city_driver.find_element(By.CSS_SELECTOR, 'div[data-testid=\"pagination\"]  li:last-child').text)\n",
    "\n",
    "    for page in range(1, number_of_pages+1):\n",
    "        # delete former requests\n",
    "        del city_driver.requests\n",
    "        # get hotel cards from search results\n",
    "        hotels_from_search = city_driver.find_elements(By.CSS_SELECTOR, 'div[data-testid=\"property-card\"]')\n",
    "        # get info from each hotel card\n",
    "        for hotel_card in hotels_from_search:\n",
    "            names.append(hotel_card.find_element(By.CSS_SELECTOR, 'div[data-testid=\"title\"]').text)\n",
    "            links_for_hotel_pages.append(hotel_card.find_element(By.CSS_SELECTOR, 'a[data-testid=\"title-link\"]').get_attribute('href'))\n",
    "            distance_from_center.append(hotel_card.find_element(By.CSS_SELECTOR, 'span[data-testid=\"distance\"]').text)\n",
    "        # in the last page we dont need to click on next page button\n",
    "        if page == number_of_pages:\n",
    "            break\n",
    "        # click on next page button\n",
    "        next_page_btn = city_driver.find_element(By.XPATH, '//button[contains(@aria-label, \"Next page\")]')\n",
    "        next_page_btn.click()\n",
    "        # wait for the next page to load before acquiring more data or till timeout in 20 seconds\n",
    "        city_driver.wait_for_request(\"/dml/graphql\", timeout=20)\n",
    "        time.sleep(5)\n",
    "\n",
    "    hotels_info = {\"hotel_names\": names, \"links\": links_for_hotel_pages, 'distance_from_center': distance_from_center}\n",
    "    city_df = pd.DataFrame(hotels_info)\n",
    "    print(\"finished loading data\")\n",
    "    return city_df"
   ]
  },
  {
   "attachments": {},
   "cell_type": "markdown",
   "id": "09e29de9",
   "metadata": {},
   "source": [
    "This function goes through the list of cities, creates a driver and calls the function that will extract the hotel links from the browser. Then it closes the connection and saves the data into a file."
   ]
  },
  {
   "cell_type": "code",
   "execution_count": 7,
   "id": "174cead6",
   "metadata": {},
   "outputs": [],
   "source": [
    "def get_hotel_links_from_cities():\n",
    "    cities_and_urls = {\"paris\": \"https://www.booking.com/searchresults.en-gb.html?label=Catch_All-EN-131006968001-bPiN0WYm7x7ddzlXSroMLwS548793046706%3Apl%3Ata%3Ap1%3Ap2%3Aac%3Aap%3Aneg%3Afi%3Atiaud-294889297093%3Adsa-1642216383571%3Alp1008002%3Ali%3Adec%3Adm&sid=176ab549c47fbf99c9ee1b8552278873&aid=318615&ss=Paris&ssne=Paris&ssne_untouched=Paris&efdco=1&lang=en-gb&src=searchresults&dest_id=-1456928&dest_type=city&checkin=2023-04-10&checkout=2023-04-13&group_adults=2&no_rooms=1&group_children=0&sb_travel_purpose=leisure&nflt=ht_id%3D204\",\n",
    "              \"nice\": \"https://www.booking.com/searchresults.en-gb.html?label=Catch_All-EN-131006968001-bPiN0WYm7x7ddzlXSroMLwS548793046706%3Apl%3Ata%3Ap1%3Ap2%3Aac%3Aap%3Aneg%3Afi%3Atiaud-294889297093%3Adsa-1642216383571%3Alp1008002%3Ali%3Adec%3Adm&sid=176ab549c47fbf99c9ee1b8552278873&aid=318615&ss=Nice%2C+Provence-Alpes-C%C3%B4te+d%27Azur%2C+France&ssne=Paris&ssne_untouched=Paris&lang=en-gb&src=searchresults&dest_id=-1454990&dest_type=city&ac_position=0&ac_click_type=b&ac_langcode=en&ac_suggestion_list_length=5&search_selected=true&search_pageview_id=5eb2597cf50b0023&ac_meta=GhA1ZWIyNTk3Y2Y1MGIwMDIzIAAoATICZW46BG5pY2VAAEoAUAA%3D&checkin=2023-04-10&checkout=2023-04-13&group_adults=2&no_rooms=1&group_children=0&sb_travel_purpose=leisure&nflt=ht_id%3D204\",\n",
    "              \"marseille\": \"https://www.booking.com/searchresults.en-gb.html?label=Catch_All-EN-131006968001-bPiN0WYm7x7ddzlXSroMLwS548793046706%3Apl%3Ata%3Ap1%3Ap2%3Aac%3Aap%3Aneg%3Afi%3Atiaud-294889297093%3Adsa-1642216383571%3Alp1008002%3Ali%3Adec%3Adm&sid=176ab549c47fbf99c9ee1b8552278873&aid=318615&ss=Marseille%2C+Provence-Alpes-C%C3%B4te+d%27Azur%2C+France&ssne=Nice&ssne_untouched=Nice&lang=en-gb&src=searchresults&dest_id=-1449947&dest_type=city&ac_position=0&ac_click_type=b&ac_langcode=en&ac_suggestion_list_length=5&search_selected=true&search_pageview_id=00145996f939055a&ac_meta=GhAwMDE0NTk5NmY5MzkwNTVhIAAoATICZW46CW1hcnNlaWxsZUAASgBQAA%3D%3D&checkin=2023-04-10&checkout=2023-04-13&group_adults=2&no_rooms=1&group_children=0&sb_travel_purpose=leisure&nflt=ht_id%3D204\",\n",
    "              \"lyon\": \"https://www.booking.com/searchresults.en-gb.html?label=Catch_All-EN-131006968001-bPiN0WYm7x7ddzlXSroMLwS548793046706%3Apl%3Ata%3Ap1%3Ap2%3Aac%3Aap%3Aneg%3Afi%3Atiaud-294889297093%3Adsa-1642216383571%3Alp1008002%3Ali%3Adec%3Adm&sid=176ab549c47fbf99c9ee1b8552278873&aid=318615&ss=Lyon%2C+Rh%C3%B4ne-Alps%2C+France&ssne=Marseille&ssne_untouched=Marseille&lang=en-gb&src=searchresults&dest_id=-1448468&dest_type=city&ac_position=0&ac_click_type=b&ac_langcode=en&ac_suggestion_list_length=1&search_selected=true&search_pageview_id=6d9459a8df7400df&ac_meta=GhA2ZDk0NTlhOGRmNzQwMGRmIAAoATICZW46CNea15jXndeeQABKAFAA&checkin=2023-04-10&checkout=2023-04-13&group_adults=2&no_rooms=1&group_children=0&sb_travel_purpose=leisure&nflt=ht_id%3D204\"}\n",
    "    for city in cities_and_urls.keys():\n",
    "        city_driver = create_driver(cities_and_urls[city])\n",
    "        city_links_df = get_hotel_links(city_driver)\n",
    "        # close the driver for this hotel \n",
    "        city_driver.close()\n",
    "        city_driver.quit()\n",
    "        # save the information in a csv file\n",
    "        file_name = \"./data/\" + city + \"_hotel_links\"\n",
    "        city_links_df.to_csv(file_name, index=False)\n",
    "        time.sleep(5)"
   ]
  },
  {
   "attachments": {},
   "cell_type": "markdown",
   "id": "93f229fc",
   "metadata": {},
   "source": [
    "Run the function that gets the hotel links from the wanted cities and saves then to csv file."
   ]
  },
  {
   "cell_type": "code",
   "execution_count": 8,
   "id": "d3e7002f",
   "metadata": {},
   "outputs": [
    {
     "name": "stdout",
     "output_type": "stream",
     "text": [
      "finished loading data\n",
      "finished loading data\n",
      "finished loading data\n",
      "finished loading data\n"
     ]
    }
   ],
   "source": [
    "get_hotel_links_from_cities()"
   ]
  },
  {
   "cell_type": "code",
   "execution_count": 31,
   "metadata": {
    "collapsed": false,
    "pycharm": {
     "name": "#%%\n"
    }
   },
   "outputs": [],
   "source": [
    "def get_parameters_from_hotels(df_links):\n",
    "    list_of_parameters = {\"Air conditioning\": [], \"Heating\": [], \"WiFi is available in all areas and is free of charge.\": [],\n",
    "                         \"City view\": [], \"Wardrobe or closet\": [], \"Soundproofing\": [], \"TV\": [], \"Coffee machine\": [],\n",
    "                          \"Private bathroom\": [], \"Lift\": [], \"Safety deposit box\": [], \"Pets are allowed. Charges may be applicable.\": [],\n",
    "                         \"24-hour front desk\": [], \"Bar\": [], \"Room service\": [], \"Fitness centre\": [], \"Spa lounge/relaxation area\": [],\n",
    "                         \"Electric kettle\": [], \"Minibar\": [], \"Tea/Coffee maker\": [], \"Restaurant\": [], \"Parking garage\": [],\n",
    "                          \"Airport shuttle\": [], \"Non-smoking rooms\": [], \"24-hour security\": [], \"Towels\": [],\n",
    "                          \"Facilities for disabled guests\": [],\"Hairdryer\": [], \"Iron\": [], \"Electric vehicle charging station\": []}\n",
    "    names = []\n",
    "    stars = []\n",
    "    distance = []\n",
    "    pool = []\n",
    "    breakfast = []\n",
    "    breakfast_and_dinner = []\n",
    "    addresses = []\n",
    "    free_cancellations = []\n",
    "    \n",
    "    for ind in df_links.index:\n",
    "        # get link from df\n",
    "        link = df_links.iloc[ind]['links']\n",
    "        # create the driver for this hotel\n",
    "        hotel_driver = create_driver(link)\n",
    "        time.sleep(3) \n",
    "        \n",
    "        try:\n",
    "            # enter the main page where the first hotel is the one we want, click the first hotel name\n",
    "            #hotel_page_btn = hotel_driver.find_element(By.CSS_SELECTOR, 'a[class=\"fc63351294 a822bdf511 d4b6b7a9e7 fa565176a8 f7db01295e f4605622ad b2f0d6a80e\"]')\n",
    "            hotel_page_btn = hotel_driver.find_element(By.CSS_SELECTOR, 'a[class=\"e13098a59f\"]')\n",
    "            hotel_page_btn.click()\n",
    "            # wait for the hotel page to load before acquiring more data or till timeout in 20 seconds\n",
    "            hotel_driver.wait_for_request(\"/fragment.en-gb.json\", timeout=30)\n",
    "            # window_after is the tab with the hotel\n",
    "            window_after = hotel_driver.window_handles[1]\n",
    "            # switches the current window to the new tab\n",
    "            hotel_driver.switch_to.window(window_after)\n",
    "            time.sleep(1)\n",
    "        except Exception as e: \n",
    "            print(e)\n",
    "            \n",
    "        time.sleep(10)\n",
    "        # add hotel name to list\n",
    "        names.append(df_links['hotel_names'][ind]) \n",
    "        # get number of stars and add to list\n",
    "        number_of_stars = len(hotel_driver.find_elements(By.CSS_SELECTOR, 'span[data-testid=\"rating-stars\"]  span[class=\"b6dc9a9e69 adc357e4f1 fe621d6382\"]'))\n",
    "        stars.append(number_of_stars)\n",
    "        # get distance from city center from df\n",
    "        distance.append(df_links['distance_from_center'][ind])\n",
    "        # find if there are meals\n",
    "        is_breakfast_and_dinner = len(hotel_driver.find_elements(By.CSS_SELECTOR, 'span[class=\"bui-text--color-constructive\"]'))\n",
    "        breakfast_and_dinner.append(1 if is_breakfast_and_dinner > 0 else 0)\n",
    "        is_breakfast = len(hotel_driver.find_elements(By.CSS_SELECTOR, 'span[class=\"ungreen-condition-green\"]'))\n",
    "        breakfast.append(1 if is_breakfast > 0 else 0)\n",
    "        # find if there is a pool\n",
    "        titles = hotel_driver.find_elements(By.CSS_SELECTOR, 'div[class=\"db29ecfbe2 f0d4d6a2f5\"] span[class=\"db312485ba\"')\n",
    "        is_there_pool = 0\n",
    "        for title in titles:\n",
    "            if title.text == \"Indoor swimming pool\" or title.text == \"Outdoor swimming pool\":\n",
    "                is_there_pool = 1\n",
    "        pool.append(is_there_pool)\n",
    "        # wait for the address element to be present on the page\n",
    "        wait = WebDriverWait(hotel_driver, 10)\n",
    "        address_element = wait.until(EC.presence_of_element_located((By.CSS_SELECTOR, \"#showMap2 > span.hp_address_subtitle.js-hp_address_subtitle.jq_tooltip\")))\n",
    "        # get address\n",
    "        addresses.append(address_element.text)\n",
    "        \n",
    "        # wait for the list, then get facilities from the list\n",
    "        wait = WebDriverWait(hotel_driver, 40)\n",
    "        facilities_list = wait.until(EC.visibility_of_all_elements_located((By.CSS_SELECTOR, 'span[class=\"db312485ba\"')))\n",
    "        \"\"\"\n",
    "        facilities_list = hotel_driver.find_elements(By.CSS_SELECTOR, 'div[class=\"hotel-facilities__list\"] div[class=\"bui-list__description\"]')\n",
    "        \n",
    "        facilities_list = hotel_driver.find_elements(By.CSS_SELECTOR, 'span[class=\"db312485ba\"')\n",
    "        while facilities_list == None:\n",
    "            facilities_list = hotel_driver.find_elements(By.CSS_SELECTOR, 'div[class=\"hotel-facilities__list\"] div[class=\"bui-list__description\"]')\n",
    "\n",
    "        policy_services = hotel_driver.find_elements(By.CSS_SELECTOR, 'div[class=\"hotel-facilities__list\"] div[class=\"bui-spacer--medium hotel-facilities-group__policy\"]')\n",
    "        \"\"\"\n",
    "        # make facilities list into text\n",
    "        text_facilities_list = []\n",
    "        for f in facilities_list:\n",
    "            print(f.text)\n",
    "            text_facilities_list.append(f.text)\n",
    "        # check if facilities exists\n",
    "        if len(text_facilities_list) == 0:\n",
    "            print(df_links['hotel_names'][ind], \"has empty facilities list\")\n",
    "        # add policies- there are 2 possible classes for them in the list\n",
    "        wait = WebDriverWait(hotel_driver, 25)\n",
    "        try:\n",
    "            policy_services = wait.until(EC.visibility_of_all_elements_located((By.CSS_SELECTOR, 'div[class=\"db29ecfbe2 c90c0a70d3 a34d1a4138\"]')))\n",
    "        except:\n",
    "            try:\n",
    "                policy_services = wait.until(EC.visibility_of_all_elements_located((By.CSS_SELECTOR, 'div[class=\"bui-spacer--medium hotel-facilities-group__policy\"]')))\n",
    "            except:\n",
    "                print(df_links['hotel_names'][ind], \"has empty policies list\")\n",
    "\n",
    "        # add the policies to the list of facilities\n",
    "        for p in policy_services:\n",
    "            text_facilities_list.append(p.text)\n",
    "        \n",
    "        # add 1 if the parameter exists\n",
    "        for parameter in list_of_parameters.keys():\n",
    "            if parameter in text_facilities_list:\n",
    "                list_of_parameters[parameter].append(1)\n",
    "            else:\n",
    "                list_of_parameters[parameter].append(0)\n",
    "        \n",
    "        # check if there is free cancellation\n",
    "        cancellations_list = hotel_driver.find_elements(By.CSS_SELECTOR, 'span[class=\"hprt-item--emphasised\"]')\n",
    "        is_there_free_cancellation = 0\n",
    "        for f in cancellations_list:\n",
    "            if f.text == \"Free cancellation\":\n",
    "                is_there_free_cancellation = 1\n",
    "        free_cancellations.append(is_there_free_cancellation)\n",
    "        \n",
    "        time.sleep(3)  \n",
    "        # close the driver for this hotel \n",
    "        hotel_driver.close()\n",
    "        hotel_driver.quit()\n",
    "        \n",
    "    # the data we got from other parts of the page(not the facilities list)\n",
    "    full_data_city = {'hotel_names': names, 'star_rating': stars, 'distance_from_center': distance,\n",
    "                      'swimmingpool': pool, 'breakfast': breakfast, 'breakfast_and_dinner': breakfast_and_dinner,\n",
    "                      'free_cancellation': free_cancellations, 'address': addresses}\n",
    "    # merge the dictioneries \n",
    "    full_data_city.update(list_of_parameters)\n",
    "    return pd.DataFrame(full_data_city)"
   ]
  },
  {
   "attachments": {},
   "cell_type": "markdown",
   "id": "22cbaf17",
   "metadata": {},
   "source": [
    "Get the links for the hotels in the city from the csv file we saved earlier."
   ]
  },
  {
   "cell_type": "code",
   "execution_count": 13,
   "id": "a1f9e12e",
   "metadata": {
    "collapsed": false,
    "pycharm": {
     "name": "#%%\n"
    }
   },
   "outputs": [],
   "source": [
    "# returns dataframe with hotel names, links and distance from center\n",
    "def get_links_from_file(city):\n",
    "    file_name = \"./data/\" + city + \"_hotel_links\"\n",
    "    df_city_links = pd.read_csv(file_name)\n",
    "    return df_city_links"
   ]
  },
  {
   "attachments": {},
   "cell_type": "markdown",
   "id": "cff87466",
   "metadata": {},
   "source": [
    "Go through the list of hotels and extract the wanted parameters from each hotel's page."
   ]
  },
  {
   "cell_type": "code",
   "execution_count": 29,
   "id": "7b939d74",
   "metadata": {},
   "outputs": [],
   "source": [
    "def get_parameters_for_all_cities():\n",
    "    # cities = [\"paris\", \"lyon\", \"marseille\", \"nice\"]\n",
    "    cities = [\"lyon\"]\n",
    "    for city in cities:\n",
    "        df_city_links = get_links_from_file(city)\n",
    "        # get dataframe with all the parameters of the hotels\n",
    "        df_parameters = get_parameters_from_hotels(df_city_links.head(5))\n",
    "        # save the information in a csv file\n",
    "        file_name = \"./data/\" + city + \"_hotels_parameters\"\n",
    "        df_parameters.to_csv(file_name, index=False)\n",
    "        time.sleep(10)\n",
    "        print(\"finished saving parameters for {} hotels\".format(city))\n",
    "        print(df_parameters)\n",
    "        print(\"----------------\")\n",
    "    "
   ]
  },
  {
   "cell_type": "code",
   "execution_count": 32,
   "id": "ef0c5f87",
   "metadata": {},
   "outputs": [
    {
     "ename": "TimeoutException",
     "evalue": "Message: \n",
     "output_type": "error",
     "traceback": [
      "\u001b[0;31m---------------------------------------------------------------------------\u001b[0m",
      "\u001b[0;31mTimeoutException\u001b[0m                          Traceback (most recent call last)",
      "Cell \u001b[0;32mIn[32], line 1\u001b[0m\n\u001b[0;32m----> 1\u001b[0m get_parameters_for_all_cities()\n",
      "Cell \u001b[0;32mIn[29], line 7\u001b[0m, in \u001b[0;36mget_parameters_for_all_cities\u001b[0;34m()\u001b[0m\n\u001b[1;32m      5\u001b[0m df_city_links \u001b[39m=\u001b[39m get_links_from_file(city)\n\u001b[1;32m      6\u001b[0m \u001b[39m# get dataframe with all the parameters of the hotels\u001b[39;00m\n\u001b[0;32m----> 7\u001b[0m df_parameters \u001b[39m=\u001b[39m get_parameters_from_hotels(df_city_links\u001b[39m.\u001b[39;49mhead(\u001b[39m5\u001b[39;49m))\n\u001b[1;32m      8\u001b[0m \u001b[39m# save the information in a csv file\u001b[39;00m\n\u001b[1;32m      9\u001b[0m file_name \u001b[39m=\u001b[39m \u001b[39m\"\u001b[39m\u001b[39m./data/\u001b[39m\u001b[39m\"\u001b[39m \u001b[39m+\u001b[39m city \u001b[39m+\u001b[39m \u001b[39m\"\u001b[39m\u001b[39m_hotels_parameters\u001b[39m\u001b[39m\"\u001b[39m\n",
      "Cell \u001b[0;32mIn[31], line 68\u001b[0m, in \u001b[0;36mget_parameters_from_hotels\u001b[0;34m(df_links)\u001b[0m\n\u001b[1;32m     66\u001b[0m \u001b[39m# wait for the list, then get facilities from the list\u001b[39;00m\n\u001b[1;32m     67\u001b[0m wait \u001b[39m=\u001b[39m WebDriverWait(hotel_driver, \u001b[39m40\u001b[39m)\n\u001b[0;32m---> 68\u001b[0m facilities_list \u001b[39m=\u001b[39m wait\u001b[39m.\u001b[39;49muntil(EC\u001b[39m.\u001b[39;49mvisibility_of_all_elements_located((By\u001b[39m.\u001b[39;49mCSS_SELECTOR, \u001b[39m'\u001b[39;49m\u001b[39m#hp_facilities_box > div:nth-child(4) > div > div > div:nth-child(1) > div > ul > li:nth-child(1) > div > div > div > span > div > span\u001b[39;49m\u001b[39m'\u001b[39;49m)))\n\u001b[1;32m     69\u001b[0m \u001b[39m\u001b[39m\u001b[39m\"\"\"\u001b[39;00m\n\u001b[1;32m     70\u001b[0m \u001b[39mfacilities_list = hotel_driver.find_elements(By.CSS_SELECTOR, 'div[class=\"hotel-facilities__list\"] div[class=\"bui-list__description\"]')\u001b[39;00m\n\u001b[1;32m     71\u001b[0m \u001b[39m\u001b[39;00m\n\u001b[0;32m   (...)\u001b[0m\n\u001b[1;32m     76\u001b[0m \u001b[39mpolicy_services = hotel_driver.find_elements(By.CSS_SELECTOR, 'div[class=\"hotel-facilities__list\"] div[class=\"bui-spacer--medium hotel-facilities-group__policy\"]')\u001b[39;00m\n\u001b[1;32m     77\u001b[0m \u001b[39m\"\"\"\u001b[39;00m\n\u001b[1;32m     78\u001b[0m \u001b[39m# make facilities list into text\u001b[39;00m\n",
      "File \u001b[0;32m/Library/Frameworks/Python.framework/Versions/3.10/lib/python3.10/site-packages/selenium/webdriver/support/wait.py:95\u001b[0m, in \u001b[0;36mWebDriverWait.until\u001b[0;34m(self, method, message)\u001b[0m\n\u001b[1;32m     93\u001b[0m     \u001b[39mif\u001b[39;00m time\u001b[39m.\u001b[39mmonotonic() \u001b[39m>\u001b[39m end_time:\n\u001b[1;32m     94\u001b[0m         \u001b[39mbreak\u001b[39;00m\n\u001b[0;32m---> 95\u001b[0m \u001b[39mraise\u001b[39;00m TimeoutException(message, screen, stacktrace)\n",
      "\u001b[0;31mTimeoutException\u001b[0m: Message: \n"
     ]
    }
   ],
   "source": [
    "get_parameters_for_all_cities()"
   ]
  },
  {
   "cell_type": "code",
   "execution_count": null,
   "id": "ee34697e",
   "metadata": {},
   "outputs": [],
   "source": [
    "def get_parameters_for_file(city):\n",
    "    file_name = \"./data/\" + city + \"_hotels_parameters\"\n",
    "    df_city_parameters = pd.read_csv(file_name, header=None)\n",
    "    return df_city_parameters"
   ]
  },
  {
   "cell_type": "code",
   "execution_count": null,
   "id": "9bc4bbd5",
   "metadata": {},
   "outputs": [],
   "source": [
    "df = get_parameters_for_file(\"lyon\")\n",
    "df"
   ]
  },
  {
   "cell_type": "code",
   "execution_count": null,
   "metadata": {
    "collapsed": false,
    "pycharm": {
     "name": "#%%\n"
    }
   },
   "outputs": [],
   "source": [
    "# for checking\n",
    "df_links = get_links(\"lyon\")\n",
    "\n",
    "\n",
    "df_lyon = get_parameters_from_hotels(df_links.head(5))\n",
    "df_lyon"
   ]
  },
  {
   "cell_type": "code",
   "execution_count": null,
   "metadata": {
    "collapsed": false,
    "pycharm": {
     "name": "#%%\n"
    }
   },
   "outputs": [],
   "source": [
    "df_links.head(5)['links'][2]"
   ]
  },
  {
   "cell_type": "code",
   "execution_count": null,
   "metadata": {
    "collapsed": false,
    "pycharm": {
     "name": "#%%\n"
    }
   },
   "outputs": [],
   "source": [
    "# for checking \n",
    "link =\"https://www.booking.com/hotel/fr/etap-nice-aeroport.en-gb.html?aid=318615&label=Catch_All-EN-131006968001-bPiN0WYm7x7ddzlXSroMLwS548793046706%3Apl%3Ata%3Ap1%3Ap2%3Aac%3Aap%3Aneg%3Afi%3Atiaud-294889297093%3Adsa-1642216383571%3Alp1008002%3Ali%3Adec%3Adm&sid=63acef8e80078e4e369e8ece284dec93&all_sr_blocks=38782203_115246907_3_2_0;checkin=2023-01-10;checkout=2023-01-14;dest_id=-1454990;dest_type=city;dist=0;group_adults=2;group_children=0;hapos=4;highlighted_blocks=38782203_115246907_3_2_0;hpos=4;matching_block_id=38782203_115246907_3_2_0;no_rooms=1;req_adults=2;req_children=0;room1=A%2CA;sb_price_type=total;sr_order=popularity;sr_pri_blocks=38782203_115246907_3_2_0__23100;srepoch=1673292021;srpvid=e4bf87f976660261;type=total;ucfs=1&#hotelTmpl\"\n",
    "hotel_driver = create_driver(link)\n",
    "\n",
    "hotel_page_btn = hotel_driver.find_element(By.CSS_SELECTOR, 'a[class=\"fc63351294 a822bdf511 d4b6b7a9e7 fa565176a8 f7db01295e f4605622ad b2f0d6a80e\"]')\n",
    "hotel_page_btn.click()\n",
    "# wait for the next page to load before acquiring more data or till timeout in 20 seconds\n",
    "hotel_driver.wait_for_request(\"/fragment.en-gb.json\", timeout=20)\n",
    "window_after = hotel_driver.window_handles[1]\n",
    "# switches the current window to the new tab\n",
    "hotel_driver.switch_to.window(window_after)\n",
    "\n",
    "#free cancelation\n",
    "l = hotel_driver.find_elements(By.CSS_SELECTOR, 'span[class=\"hprt-item--emphasised\"]')\n",
    "for f in l:\n",
    "    if f.text == \"Free cancellation\":\n",
    "        print(1)\n",
    "\n",
    "address = hotel_driver.find_element(By.CSS_SELECTOR, 'p[class=\"address address_clean\"] span[data-node_tt_id=\"location_score_tooltip\"]').text\n",
    "\n",
    "\n",
    "hotel_driver.close()\n",
    "hotel_driver.quit()"
   ]
  },
  {
   "cell_type": "code",
   "execution_count": null,
   "metadata": {
    "collapsed": false,
    "pycharm": {
     "name": "#%%\n"
    }
   },
   "outputs": [],
   "source": []
  },
  {
   "cell_type": "code",
   "execution_count": null,
   "id": "75eca6d7",
   "metadata": {
    "pycharm": {
     "name": "#%%\n"
    }
   },
   "outputs": [],
   "source": [
    "# for checking \n",
    "link =\"https://www.booking.com/hotel/fr/etap-nice-aeroport.en-gb.html?aid=318615&label=Catch_All-EN-131006968001-bPiN0WYm7x7ddzlXSroMLwS548793046706%3Apl%3Ata%3Ap1%3Ap2%3Aac%3Aap%3Aneg%3Afi%3Atiaud-294889297093%3Adsa-1642216383571%3Alp1008002%3Ali%3Adec%3Adm&sid=63acef8e80078e4e369e8ece284dec93&all_sr_blocks=38782203_115246907_3_2_0;checkin=2023-01-10;checkout=2023-01-14;dest_id=-1454990;dest_type=city;dist=0;group_adults=2;group_children=0;hapos=4;highlighted_blocks=38782203_115246907_3_2_0;hpos=4;matching_block_id=38782203_115246907_3_2_0;no_rooms=1;req_adults=2;req_children=0;room1=A%2CA;sb_price_type=total;sr_order=popularity;sr_pri_blocks=38782203_115246907_3_2_0__23100;srepoch=1673292021;srpvid=e4bf87f976660261;type=total;ucfs=1&#hotelTmpl\"\n",
    "hotel_driver = create_driver(link)\n",
    "\n",
    "hotel_page_btn = hotel_driver.find_element(By.CSS_SELECTOR, 'a[class=\"fc63351294 a822bdf511 d4b6b7a9e7 fa565176a8 f7db01295e f4605622ad b2f0d6a80e\"]')\n",
    "hotel_page_btn.click()\n",
    "# wait for the next page to load before acquiring more data or till timeout in 20 seconds\n",
    "hotel_driver.wait_for_request(\"/fragment.en-gb.json\", timeout=20)\n",
    "window_after = hotel_driver.window_handles[1]\n",
    "# switches the current window to the new tab\n",
    "hotel_driver.switch_to.window(window_after)\n",
    "\n",
    "#free cancelation\n",
    "l = hotel_driver.find_elements(By.CSS_SELECTOR, 'span[class=\"hprt-item--emphasised\"]')\n",
    "for f in l:\n",
    "    if f.text == \"Free cancellation\":\n",
    "        print(1)\n",
    "\n",
    "address = hotel_driver.find_element(By.CSS_SELECTOR, 'p[class=\"address address_clean\"] span[data-node_tt_id=\"location_score_tooltip\"]').text\n",
    "\n",
    "\n",
    "hotel_driver.close()\n",
    "hotel_driver.quit()"
   ]
  }
 ],
 "metadata": {
  "kernelspec": {
   "display_name": "Python 3",
   "language": "python",
   "name": "python3"
  },
  "language_info": {
   "codemirror_mode": {
    "name": "ipython",
    "version": 3
   },
   "file_extension": ".py",
   "mimetype": "text/x-python",
   "name": "python",
   "nbconvert_exporter": "python",
   "pygments_lexer": "ipython3",
   "version": "3.10.6 (v3.10.6:9c7b4bd164, Aug  1 2022, 17:13:48) [Clang 13.0.0 (clang-1300.0.29.30)]"
  },
  "vscode": {
   "interpreter": {
    "hash": "aee8b7b246df8f9039afb4144a1f6fd8d2ca17a180786b69acc140d282b71a49"
   }
  }
 },
 "nbformat": 4,
 "nbformat_minor": 5
}
