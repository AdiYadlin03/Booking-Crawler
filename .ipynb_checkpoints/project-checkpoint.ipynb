{
 "cells": [
  {
   "cell_type": "code",
   "execution_count": null,
   "id": "28e176e7",
   "metadata": {
    "pycharm": {
     "name": "#%%\n"
    }
   },
   "outputs": [],
   "source": [
    "\"\"\"\n",
    "https://www.scrapingbee.com/blog/web-scraping-booking/\n",
    "https://selenium-python.readthedocs.io/locating-elements.html\n",
    "\n",
    "\"\"\""
   ]
  },
  {
   "cell_type": "code",
   "execution_count": null,
   "id": "25968d1b",
   "metadata": {
    "pycharm": {
     "is_executing": true,
     "name": "#%%\n"
    }
   },
   "outputs": [],
   "source": [
    "pip install selenium selenium-wire webdriver-manager"
   ]
  },
  {
   "cell_type": "code",
   "execution_count": 1,
   "id": "318565fa",
   "metadata": {
    "pycharm": {
     "name": "#%%\n"
    }
   },
   "outputs": [],
   "source": [
    "import pandas as pd\n",
    "import numpy as np\n",
    "import selenium\n",
    "# from selenium import webdriver\n",
    "from selenium.webdriver.common.by import By\n",
    "from seleniumwire import webdriver\n",
    "from selenium.webdriver.chrome.service import Service\n",
    "from webdriver_manager.chrome import ChromeDriverManager\n"
   ]
  },
  {
   "cell_type": "code",
   "execution_count": 2,
   "id": "73c8b653",
   "metadata": {
    "pycharm": {
     "name": "#%%\n"
    }
   },
   "outputs": [],
   "source": [
    "def create_driver(url):\n",
    "    driver = webdriver.Chrome()\n",
    "    driver.get(url)\n",
    "    #print(driver.title)\n",
    "    return driver"
   ]
  },
  {
   "cell_type": "code",
   "execution_count": null,
   "id": "8e813836",
   "metadata": {
    "pycharm": {
     "name": "#%%\n"
    }
   },
   "outputs": [],
   "source": [
    "def get_hotel_links(city_driver):\n",
    "    names = []\n",
    "    links_for_hotel_pages = []\n",
    "    distance_from_center = []\n",
    "    \n",
    "    number_of_pages = int(city_driver.find_element(By.CSS_SELECTOR, 'div[data-testid=\"pagination\"]  li:last-child').text)\n",
    "\n",
    "    for page in range(1, number_of_pages+1):\n",
    "        # delete former requests\n",
    "        del city_driver.requests\n",
    "        # get hotel cards from search results\n",
    "        hotels_from_search = city_driver.find_elements(By.CSS_SELECTOR, 'div[data-testid=\"property-card\"]')\n",
    "        # get info from each hotel card\n",
    "        for hotel_card in hotels_from_search:\n",
    "            names.append(hotel_card.find_element(By.CSS_SELECTOR, 'div[data-testid=\"title\"]').text)\n",
    "            links_for_hotel_pages.append(hotel_card.find_element(By.CSS_SELECTOR, 'a[data-testid=\"title-link\"]').get_attribute('href'))\n",
    "            distance_from_center.append(hotel_card.find_element(By.CSS_SELECTOR, 'span[data-testid=\"distance\"]').text)\n",
    "        # in the last page we dont need to click on next page button\n",
    "        if page == number_of_pages:\n",
    "            break\n",
    "        # click on next page button\n",
    "        next_page_btn = city_driver.find_element(By.XPATH, '//button[contains(@aria-label, \"Next page\")]')\n",
    "        next_page_btn.click()\n",
    "        # wait for the next page to load before acquiring more data or till timeout in 5 seconds\n",
    "        city_driver.wait_for_request(\"/dml/graphql\", timeout=15)\n",
    "        city_driver.implicitly_wait(10)\n",
    "\n",
    "    hotels_info = {\"hotel_names\": names, \"links\": links_for_hotel_pages, 'distance_from_center': distance_from_center}\n",
    "    city_df = pd.DataFrame(hotels_info)\n",
    "    city_driver.close()\n",
    "    city_driver.quit()\n",
    "    return city_df\n",
    "\n"
   ]
  },
  {
   "cell_type": "code",
   "execution_count": null,
   "id": "b93025d0",
   "metadata": {
    "pycharm": {
     "name": "#%%\n"
    }
   },
   "outputs": [],
   "source": [
    "# Paris\n",
    "paris_url = \"https://www.booking.com/searchresults.en-gb.html?label=Catch_All-EN-131006968001-bPiN0WYm7x7ddzlXSroMLwS548793046706%3Apl%3Ata%3Ap1%3Ap2%3Aac%3Aap%3Aneg%3Afi%3Atiaud-294889297093%3Adsa-1642216383571%3Alp1008002%3Ali%3Adec%3Adm&sid=176ab549c47fbf99c9ee1b8552278873&aid=318615&ss=Paris&ssne=Paris&ssne_untouched=Paris&efdco=1&lang=en-gb&src=index&dest_id=-1456928&dest_type=city&checkin=2023-01-10&checkout=2023-01-14&group_adults=2&no_rooms=1&group_children=0&sb_travel_purpose=leisure&nflt=ht_id%3D204\"\n",
    "paris_driver = create_driver(paris_url)\n",
    "paris_links = get_hotel_links(paris_driver)\n",
    "paris_links"
   ]
  },
  {
   "cell_type": "code",
   "execution_count": null,
   "id": "bfa93ce5",
   "metadata": {
    "pycharm": {
     "name": "#%%\n"
    }
   },
   "outputs": [],
   "source": [
    "file_name = \"./data/\" + \"paris_hotel_links\"\n",
    "paris_links.to_csv(file_name)"
   ]
  },
  {
   "cell_type": "code",
   "execution_count": null,
   "id": "ab3b73a3",
   "metadata": {
    "pycharm": {
     "name": "#%%\n"
    }
   },
   "outputs": [],
   "source": [
    "# Nice\n",
    "nice_url = \"https://www.booking.com/searchresults.en-gb.html?label=Catch_All-EN-131006968001-bPiN0WYm7x7ddzlXSroMLwS548793046706%3Apl%3Ata%3Ap1%3Ap2%3Aac%3Aap%3Aneg%3Afi%3Atiaud-294889297093%3Adsa-1642216383571%3Alp1008002%3Ali%3Adec%3Adm&sid=176ab549c47fbf99c9ee1b8552278873&aid=318615&ss=Nice%2C+Provence-Alpes-C%C3%B4te+d%27Azur%2C+France&ssne=Marseille&ssne_untouched=Marseille&lang=en-gb&src=searchresults&dest_id=-1454990&dest_type=city&ac_position=0&ac_click_type=b&ac_langcode=en&ac_suggestion_list_length=5&search_selected=true&search_pageview_id=b7cb7f7427a70019&ac_meta=GhBiN2NiN2Y3NDI3YTcwMDE5IAAoATICZW46BG5pY2VAAEoAUAA%3D&checkin=2023-01-10&checkout=2023-01-14&group_adults=2&no_rooms=1&group_children=0&sb_travel_purpose=leisure&nflt=ht_id%3D204\"\n",
    "nice_driver = create_driver(nice_url)\n",
    "nice_links = get_hotel_links(nice_driver)\n",
    "nice_links"
   ]
  },
  {
   "cell_type": "code",
   "execution_count": null,
   "id": "dd00fd27",
   "metadata": {
    "pycharm": {
     "name": "#%%\n"
    }
   },
   "outputs": [],
   "source": [
    "file_name = \"./data/\" + \"nice_hotel_links\"\n",
    "nice_links.to_csv(file_name)"
   ]
  },
  {
   "cell_type": "code",
   "execution_count": null,
   "id": "34ff0ec5",
   "metadata": {
    "pycharm": {
     "name": "#%%\n"
    }
   },
   "outputs": [],
   "source": [
    "# Marseille\n",
    "marseille_url = \"https://www.booking.com/searchresults.en-gb.html?label=Catch_All-EN-131006968001-bPiN0WYm7x7ddzlXSroMLwS548793046706%3Apl%3Ata%3Ap1%3Ap2%3Aac%3Aap%3Aneg%3Afi%3Atiaud-294889297093%3Adsa-1642216383571%3Alp1008002%3Ali%3Adec%3Adm&sid=176ab549c47fbf99c9ee1b8552278873&aid=318615&ss=Marseille%2C+Provence-Alpes-C%C3%B4te+d%27Azur%2C+France&ssne=Lyon&ssne_untouched=Lyon&lang=en-gb&src=searchresults&dest_id=-1449947&dest_type=city&ac_position=0&ac_click_type=b&ac_langcode=en&ac_suggestion_list_length=5&search_selected=true&search_pageview_id=17077f4de7c00140&ac_meta=GhAxNzA3N2Y0ZGU3YzAwMTQwIAAoATICZW46BG1hcnNAAEoAUAA%3D&checkin=2023-01-10&checkout=2023-01-14&group_adults=2&no_rooms=1&group_children=0&sb_travel_purpose=leisure&nflt=ht_id%3D204\"\n",
    "marseille_driver = create_driver(marseille_url)\n",
    "marseille_links = get_hotel_links(marseille_driver)\n",
    "marseille_links"
   ]
  },
  {
   "cell_type": "code",
   "execution_count": null,
   "id": "6f633803",
   "metadata": {
    "pycharm": {
     "name": "#%%\n"
    }
   },
   "outputs": [],
   "source": [
    "file_name = \"./data/\" + \"marseille_hotel_links\"\n",
    "marseille_links.to_csv(file_name)"
   ]
  },
  {
   "cell_type": "code",
   "execution_count": null,
   "id": "048df176",
   "metadata": {
    "pycharm": {
     "name": "#%%\n"
    }
   },
   "outputs": [],
   "source": [
    "# Lyon\n",
    "lyon_url = \"https://www.booking.com/searchresults.en-gb.html?label=Catch_All-EN-131006968001-bPiN0WYm7x7ddzlXSroMLwS548793046706%3Apl%3Ata%3Ap1%3Ap2%3Aac%3Aap%3Aneg%3Afi%3Atiaud-294889297093%3Adsa-1642216383571%3Alp1008002%3Ali%3Adec%3Adm&sid=176ab549c47fbf99c9ee1b8552278873&aid=318615&ss=Lyon%2C+Rh%C3%B4ne-Alps%2C+France&ssne=Paris&ssne_untouched=Paris&lang=en-gb&src=searchresults&dest_id=-1448468&dest_type=city&ac_position=0&ac_click_type=b&ac_langcode=en&ac_suggestion_list_length=5&search_selected=true&search_pageview_id=79e77f0759c207cf&ac_meta=GhA3OWU3N2YwNzU5YzIwN2NmIAAoATICZW46BGx5b25AAEoAUAA%3D&checkin=2023-01-10&checkout=2023-01-14&group_adults=2&no_rooms=1&group_children=0&sb_travel_purpose=leisure&nflt=ht_id%3D204\"\n",
    "lyon_driver = create_driver(lyon_url)\n",
    "lyon_links = get_hotel_links(lyon_driver)\n",
    "lyon_links"
   ]
  },
  {
   "cell_type": "code",
   "execution_count": null,
   "id": "f19ca0d8",
   "metadata": {
    "pycharm": {
     "name": "#%%\n"
    }
   },
   "outputs": [],
   "source": [
    "file_name = \"./data/\" + \"lyon_hotel_links\"\n",
    "lyon_links.to_csv(file_name)"
   ]
  },
  {
   "cell_type": "code",
   "execution_count": 9,
   "id": "932820e8",
   "metadata": {},
   "outputs": [],
   "source": [
    "# returns dataframe with hotel names, links and distance from center\n",
    "def get_links(city):\n",
    "    file_name = \"./data/\" + city + \"_hotel_links\"\n",
    "    df_city_links = pd.read_csv(file_name)\n",
    "    del df_city_links['Unnamed: 0']\n",
    "    return df_city_links"
   ]
  },
  {
   "cell_type": "code",
   "execution_count": null,
   "id": "835e3201",
   "metadata": {
    "pycharm": {
     "name": "#%%\n"
    }
   },
   "outputs": [],
   "source": [
    "def check_for_facility(facility):\n",
    "    if facility in facilities_list:\n",
    "        return 1\n",
    "    return 0"
   ]
  },
  {
   "cell_type": "code",
   "execution_count": 3,
   "id": "c3b5ab18",
   "metadata": {
    "pycharm": {
     "name": "#%%\n"
    }
   },
   "outputs": [],
   "source": [
    "#def get_parameters_from_hotel(hotel_name, link):\n",
    "def func(df_links):\n",
    "    # free cancelation\n",
    "    list_of_parameters = {\"Air conditioning\": [], \"Heating\": [], \"WiFi is available in all areas and is free of charge.\": [],\n",
    "                         \"City view\": [], \"Wardrobe or closet\": [], \"Soundproofing\": [], \"TV\": [], \"Coffee machine\": [],\n",
    "                          \"Private bathroom\": [], \"Lift\": [], \"Safety deposit box\": [], \"Pets are allowed. Charges may be applicable.\": [],\n",
    "                         \"24-hour front desk\": [], \"Bar\": [], \"Room service\": [], \"Fitness centre\": [], \"Spa lounge/relaxation area\": [],\n",
    "                         \"Electric kettle\": [], \"Minibar\": [], \"Tea/Coffee maker\": [], \"Restaurant\": [], \"Parking garage\": [],\n",
    "                          \"Airport shuttle\": [], \"Non-smoking rooms\": [], \"24-hour security\": [], \"Towels\": [],\n",
    "                          \"Facilities for disabled guests\": [],\"Hairdryer\": [], \"Iron\": [], \"Electric vehicle charging station\": []}\n",
    "    names = []\n",
    "    stars = []\n",
    "    distance = []\n",
    "    tv = []\n",
    "    pool = []\n",
    "    breakfast = []\n",
    "    breakfast_and_dinner = []\n",
    "    addresses = []\n",
    "    \n",
    "    for ind in df_links.index:\n",
    "        # enter the first hotel from the main page\n",
    "        \n",
    "        # get link from df\n",
    "        link = df_links.iloc[ind]['links']\n",
    "        # create the driver for this hotel\n",
    "        hotel_driver = create_driver(link)\n",
    "        # add hotel name to list\n",
    "        names.append(df_links['hotel_names']) \n",
    "        # get number of stars and add to list\n",
    "        number_of_stars = len(hotel_driver.find_elements(By.CSS_SELECTOR, 'span[data-testid=\"rating-stars\"]  span[class=\"b6dc9a9e69 adc357e4f1 fe621d6382\"]'))\n",
    "        stars.append(number_of_stars)\n",
    "        # get distance from city center from df\n",
    "        distance.append(df_links['distance_from_center'])\n",
    "        # get facilities list\n",
    "        facilities_list = hotel_driver.find_elements(By.CSS_SELECTOR, 'div[class=\"hotel-facilities__list\"] div[class=\"bui-list__description\"]')\n",
    "        policy_services = hotel_driver.find_elements(By.CSS_SELECTOR, 'div[class=\"hotel-facilities__list\"] div[class=\"bui-spacer--medium hotel-facilities-group__policy\"]')\n",
    "        # find if there are meals\n",
    "        is_breakfast_and_dinner = len(hotel_driver.find_elements(By.CSS_SELECTOR, 'span[class=\"bui-text--color-constructive\"]'))\n",
    "        breakfast_and_dinner.append(1 if is_breakfast_and_dinner > 0 else 0)\n",
    "        is_breakfast = len(hotel_driver.find_elements(By.CSS_SELECTOR, 'span[class=\"ungreen-condition-green\"]'))\n",
    "        is_breakfast.append(1 if is_breakfast > 0 else 0)\n",
    "        # find if there is a pool\n",
    "        titles = hotel_driver.find_elements(By.CSS_SELECTOR, 'div[class=\"bui-title bui-title--strong_1 bui-spacer--medium hotel-facilities-group__title\"] div[class=\"bui-title__text hotel-facilities-group__title-text\"]')\n",
    "        is_there_pool = 0\n",
    "        for title in titles:\n",
    "            if title.text == \"Indoor swimming pool\":\n",
    "                is_there_pool = 1\n",
    "        pool.append(is_there_pool)\n",
    "        # get address\n",
    "        addresses.append(hotel_driver.find_element(By.CSS_SELECTOR, 'span[class=\"hp_address_subtitle js-hp_address_subtitle jq_tooltip\"]').text)\n",
    "        # add second list to first\n",
    "        facilities_list.extend(policy_services)\n",
    "        # add to list\n",
    "        for parameter in list_of_parameters.keys():\n",
    "            if parameter in facilities_list:\n",
    "                list_of_parameters[parameter].append(1)\n",
    "            else:\n",
    "                list_of_parameters[parameter].append(0)\n",
    "        # close the driver for this hotel \n",
    "        hotel_driver.close()\n",
    "        hotel_driver.quit()\n",
    "        \n",
    "    full_data_city = {'hotel_names': names, 'star_rating': stars, 'distance_from_center': distance, 'TV' : tv,\n",
    "                      'swimmingpool': pool, 'breakfast': breakfast, 'breakfast_and_dinner': breakfast_and_dinner,\n",
    "                      }\n",
    "    # merge the dictioneries \n",
    "    full_data_city.update(list_of_parameters)\n",
    "    return full_data_city"
   ]
  },
  {
   "cell_type": "code",
   "execution_count": 36,
   "id": "75eca6d7",
   "metadata": {
    "pycharm": {
     "name": "#%%\n"
    }
   },
   "outputs": [],
   "source": [
    "# for checking \n",
    "link = \"https://www.booking.com/hotel/fr/globe-et-cecil.en-gb.html?label=Catch_All-EN-131006968001-bPiN0WYm7x7ddzlXSroMLwS548793046706%3Apl%3Ata%3Ap1%3Ap2%3Aac%3Aap%3Aneg%3Afi%3Atiaud-294889297093%3Adsa-1642216383571%3Alp1008002%3Ali%3Adec%3Adm&sid=176ab549c47fbf99c9ee1b8552278873&aid=318615&ucfs=1&arphpl=1&checkin=2023-01-10&checkout=2023-01-14&dest_id=-1448468&dest_type=city&group_adults=2&req_adults=2&no_rooms=1&group_children=0&req_children=0&hpos=2&hapos=2&sr_order=popularity&nflt=ht_id%3D204&srpvid=67c880e6395a05e0&srepoch=1673288398&all_sr_blocks=25601002_195446048_0_2_0&highlighted_blocks=25601002_195446048_0_2_0&matching_block_id=25601002_195446048_0_2_0&sr_pri_blocks=25601002_195446048_0_2_0__75820&from_sustainable_property_sr=1&from=searchresults#hotelTmpl\"\n",
    "\n",
    "hotel_driver = create_driver(link)\n",
    "hotel_driver.delete_all_cookies()\n",
    "new_link = hotel_driver.find_element(By.CSS_SELECTOR, 'a[data-testid=\"title-link\"]').get_attribute('href')\n",
    "new_hotel_driver = create_driver(new_link)\n",
    "\"\"\"\n",
    "l = hotel_driver.find_elements(By.CSS_SELECTOR, 'span[class=\"hprt-item--emphasised\"]')\n",
    "for f in l:\n",
    "    print(f.text)\n",
    "print(\"l: \",l)\n",
    "\"\"\"\n",
    "\"\"\"\n",
    "address = hotel_driver.find_element(By.CSS_SELECTOR, 'p[class=\"address address_clean\"] span[class=\"hp_address_subtitle js-hp_address_subtitle jq_tooltip\"]').text\n",
    "print(address)\n",
    "\"\"\"\n",
    "hotel_driver.close()\n",
    "hotel_driver.quit()"
   ]
  },
  {
   "cell_type": "code",
   "execution_count": 35,
   "id": "80e931bf",
   "metadata": {
    "pycharm": {
     "name": "#%%\n"
    }
   },
   "outputs": [
    {
     "data": {
      "text/plain": [
       "'https://www.booking.com/hotel/fr/globe-et-cecil.en-gb.html?label=Catch_All-EN-131006968001-bPiN0WYm7x7ddzlXSroMLwS548793046706%3Apl%3Ata%3Ap1%3Ap2%3Aac%3Aap%3Aneg%3Afi%3Atiaud-294889297093%3Adsa-1642216383571%3Alp1008002%3Ali%3Adec%3Adm&sid=176ab549c47fbf99c9ee1b8552278873&aid=318615&ucfs=1&arphpl=1&checkin=2023-01-10&checkout=2023-01-14&dest_id=-1448468&dest_type=city&group_adults=2&req_adults=2&no_rooms=1&group_children=0&req_children=0&hpos=2&hapos=2&sr_order=popularity&nflt=ht_id%3D204&srpvid=67c880e6395a05e0&srepoch=1673288398&all_sr_blocks=25601002_195446048_0_2_0&highlighted_blocks=25601002_195446048_0_2_0&matching_block_id=25601002_195446048_0_2_0&sr_pri_blocks=25601002_195446048_0_2_0__75820&from_sustainable_property_sr=1&from=searchresults#hotelTmpl'"
      ]
     },
     "execution_count": 35,
     "metadata": {},
     "output_type": "execute_result"
    }
   ],
   "source": [
    "get_links(\"lyon\")['links'][1]"
   ]
  },
  {
   "cell_type": "code",
   "execution_count": null,
   "id": "28449c07",
   "metadata": {},
   "outputs": [],
   "source": []
  }
 ],
 "metadata": {
  "kernelspec": {
   "display_name": "Python 3 (ipykernel)",
   "language": "python",
   "name": "python3"
  },
  "language_info": {
   "codemirror_mode": {
    "name": "ipython",
    "version": 3
   },
   "file_extension": ".py",
   "mimetype": "text/x-python",
   "name": "python",
   "nbconvert_exporter": "python",
   "pygments_lexer": "ipython3",
   "version": "3.9.13"
  }
 },
 "nbformat": 4,
 "nbformat_minor": 5
}
